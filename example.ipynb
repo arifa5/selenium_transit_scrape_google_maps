{
 "cells": [
  {
   "cell_type": "code",
   "execution_count": 8,
   "metadata": {},
   "outputs": [],
   "source": [
    "from src.selenium_scraper import get_travel_time"
   ]
  },
  {
   "cell_type": "code",
   "execution_count": 9,
   "metadata": {},
   "outputs": [],
   "source": [
    "#From 3 locations in London, what has the shortest transit time to Charing Cross\n",
    "origin = {\"O2 Arena\": \"51.5030739,-0.0018534\", \n",
    "          \"Wembley Stadium\": \"51.5568461,-0.2931157\",\n",
    "         \"Buckingham Palce\": \"51.5009113,-0.1581983\"}\n",
    "\n",
    "destination = \"51.5080544,-0.1252625\" #charing cross"
   ]
  },
  {
   "cell_type": "code",
   "execution_count": 12,
   "metadata": {},
   "outputs": [
    {
     "name": "stdout",
     "output_type": "stream",
     "text": [
      "Scraping travel time from O2 Arena to Charing Cross\n",
      "Travel time from O2 Arena to Charing Cross using public transport is 27 min\n",
      "Scraping travel time from Wembley Stadium to Charing Cross\n",
      "Travel time from Wembley Stadium to Charing Cross using public transport is 45 min\n",
      "Scraping travel time from Buckingham Palce to Charing Cross\n",
      "Travel time from Buckingham Palce to Charing Cross using public transport is 18 min\n"
     ]
    }
   ],
   "source": [
    "for k,v in origin.items():\n",
    "    print(f\"Scraping travel time from {k} to Charing Cross\")\n",
    "\n",
    "    travel_time = get_travel_time(v, destination)\n",
    "\n",
    "    print(f\"Travel time from {k} to Charing Cross using public transport is {travel_time}\")"
   ]
  }
 ],
 "metadata": {
  "kernelspec": {
   "display_name": "Python 3",
   "language": "python",
   "name": "python3"
  },
  "language_info": {
   "codemirror_mode": {
    "name": "ipython",
    "version": 3
   },
   "file_extension": ".py",
   "mimetype": "text/x-python",
   "name": "python",
   "nbconvert_exporter": "python",
   "pygments_lexer": "ipython3",
   "version": "3.9.7"
  },
  "orig_nbformat": 4
 },
 "nbformat": 4,
 "nbformat_minor": 2
}
